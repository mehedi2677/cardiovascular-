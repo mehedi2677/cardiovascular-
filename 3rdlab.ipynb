{
  "nbformat": 4,
  "nbformat_minor": 0,
  "metadata": {
    "colab": {
      "name": "3rdlab.ipynb",
      "provenance": [],
      "authorship_tag": "ABX9TyNOelePeSlGvOCoqlt4VSk6",
      "include_colab_link": true
    },
    "kernelspec": {
      "name": "python3",
      "display_name": "Python 3"
    },
    "language_info": {
      "name": "python"
    }
  },
  "cells": [
    {
      "cell_type": "markdown",
      "metadata": {
        "id": "view-in-github",
        "colab_type": "text"
      },
      "source": [
        "<a href=\"https://colab.research.google.com/github/mehedi2677/cardiovascular-/blob/master/3rdlab.ipynb\" target=\"_parent\"><img src=\"https://colab.research.google.com/assets/colab-badge.svg\" alt=\"Open In Colab\"/></a>"
      ]
    },
    {
      "cell_type": "code",
      "metadata": {
        "colab": {
          "base_uri": "https://localhost:8080/"
        },
        "id": "ZfwH-8Wfsoyo",
        "outputId": "237707e5-3d32-4283-bcdd-0248466dd4c2"
      },
      "source": [
        "courses = []\n",
        "choice = 'random'\n",
        "\n",
        "def line():\n",
        "    print('---------------------------------------------')\n",
        "\n",
        "def show_menu():\n",
        "    line()\n",
        "    print('Options')\n",
        "    line()\n",
        "    print('1. Add new course')\n",
        "    print('2. Remove a course')\n",
        "    print('3. View all courses')\n",
        "    print('4. Exit')\n",
        "    line()\n",
        "    choice = input('Enter your choice: ')\n",
        "    return choice\n",
        "\n",
        "while choice!= '4':\n",
        "    choice = show_menu()\n",
        "    if choice == '1':\n",
        "        item = input('Course Name: ')\n",
        "        courses.append(item)\n",
        "        print('Course ',item,' added')\n",
        "    elif choice =='2':\n",
        "        item = input('Which course do you want to remove or unroll? ')\n",
        "        if item in courses:\n",
        "            courses.remove(item)\n",
        "            print('Unrolled from ',item,' course')\n",
        "        else:\n",
        "            print('You are not enrolled in this course')\n",
        "    elif choice == '3':\n",
        "        print('List of all enrolled courses:')\n",
        "        for item in courses:\n",
        "            print(item)\n",
        "    elif choice == '4':\n",
        "        print('Bye')\n",
        "    else:\n",
        "        print('Please enter one of 1,2,3 or 4')"
      ],
      "execution_count": 1,
      "outputs": [
        {
          "output_type": "stream",
          "text": [
            "---------------------------------------------\n",
            "Options\n",
            "---------------------------------------------\n",
            "1. Add new course\n",
            "2. Remove a course\n",
            "3. View all courses\n",
            "4. Exit\n",
            "---------------------------------------------\n",
            "Enter your choice: 1\n",
            "Course Name: ai\n",
            "Course  ai  added\n",
            "---------------------------------------------\n",
            "Options\n",
            "---------------------------------------------\n",
            "1. Add new course\n",
            "2. Remove a course\n",
            "3. View all courses\n",
            "4. Exit\n",
            "---------------------------------------------\n",
            "Enter your choice: dbms\n",
            "Please enter one of 1,2,3 or 4\n",
            "---------------------------------------------\n",
            "Options\n",
            "---------------------------------------------\n",
            "1. Add new course\n",
            "2. Remove a course\n",
            "3. View all courses\n",
            "4. Exit\n",
            "---------------------------------------------\n",
            "Enter your choice: 1\n",
            "Course Name: dbms\n",
            "Course  dbms  added\n",
            "---------------------------------------------\n",
            "Options\n",
            "---------------------------------------------\n",
            "1. Add new course\n",
            "2. Remove a course\n",
            "3. View all courses\n",
            "4. Exit\n",
            "---------------------------------------------\n",
            "Enter your choice: 3\n",
            "List of all enrolled courses:\n",
            "ai\n",
            "dbms\n",
            "---------------------------------------------\n",
            "Options\n",
            "---------------------------------------------\n",
            "1. Add new course\n",
            "2. Remove a course\n",
            "3. View all courses\n",
            "4. Exit\n",
            "---------------------------------------------\n",
            "Enter your choice: 4\n",
            "Bye\n"
          ],
          "name": "stdout"
        }
      ]
    }
  ]
}